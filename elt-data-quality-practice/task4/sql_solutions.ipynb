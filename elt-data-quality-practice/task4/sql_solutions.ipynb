{
 "cells": [
  {
   "cell_type": "code",
   "execution_count": null,
   "id": "initial_id",
   "metadata": {
    "collapsed": true
   },
   "outputs": [],
   "source": [
    "# 1. **Departments with Average Salary > $50,000**:\n",
    "#    - Identify departments where the average employee salary exceeds $50,000.\n",
    "SELECT\n",
    "    d.dept_name,\n",
    "    AVG(e.salary) AS avg_salary\n",
    "FROM employees e\n",
    "JOIN departments d ON e.department_id = d.dept_id\n",
    "GROUP BY d.dept_id\n",
    "HAVING AVG(e.salary) > 50000;"
   ]
  },
  {
   "metadata": {},
   "cell_type": "code",
   "outputs": [],
   "execution_count": null,
   "source": [
    "# 2. **Employees with Above-Average Salary Working on >1 Project**:\n",
    "#    - List employees whose salary is above the average for their department and who are involved in more than one project.\n",
    "SELECT\n",
    "    e.emp_id,\n",
    "    e.full_name,\n",
    "    e.salary,\n",
    "    e.department_id,\n",
    "    d.dept_name,\n",
    "    COUNT(ep.project_id) AS project_count\n",
    "FROM employees e\n",
    "JOIN departments d ON e.department_id = d.dept_id\n",
    "JOIN employee_projects ep ON e.emp_id = ep.emp_id\n",
    "GROUP BY e.emp_id\n",
    "HAVING\n",
    "    e.salary > (\n",
    "        SELECT AVG(salary)\n",
    "        FROM employees\n",
    "        WHERE department_id = e.department_id\n",
    "    )\n",
    "    AND COUNT(ep.project_id) > 1;"
   ],
   "id": "b43378750cd2a88b"
  },
  {
   "metadata": {
    "jupyter": {
     "is_executing": true
    }
   },
   "cell_type": "code",
   "source": [
    "# 3. **Highest Salary by Department & Related Projects**:\n",
    "#    - Identify employees with the highest salary in each department and the projects they are working on.\n",
    "SELECT\n",
    "    e.emp_id,\n",
    "    e.full_name,\n",
    "    e.salary,\n",
    "    d.dept_name,\n",
    "    p.project_id,\n",
    "    p.project_name\n",
    "FROM employees e\n",
    "JOIN departments d ON e.department_id = d.dept_id\n",
    "LEFT JOIN employee_projects ep ON e.emp_id = ep.emp_id\n",
    "LEFT JOIN projects p ON ep.project_id = p.project_id\n",
    "WHERE e.salary = (\n",
    "    SELECT MAX(salary)\n",
    "    FROM employees\n",
    "    WHERE department_id = e.department_id\n",
    ")\n",
    "ORDER BY d.dept_name, e.emp_id;"
   ],
   "id": "e73438583c8eae82",
   "outputs": [],
   "execution_count": null
  },
  {
   "metadata": {},
   "cell_type": "code",
   "outputs": [],
   "execution_count": null,
   "source": [
    "# Highest salary in each department\n",
    "SELECT\n",
    "    e.emp_id,\n",
    "    e.full_name,\n",
    "    e.salary,\n",
    "    d.dept_name\n",
    "FROM employees e\n",
    "JOIN departments d ON e.department_id = d.dept_id\n",
    "WHERE e.salary = (\n",
    "    SELECT MAX(salary)\n",
    "    FROM employees\n",
    "    WHERE department_id = e.department_id\n",
    ")\n",
    "ORDER BY d.dept_name, e.emp_id;\n"
   ],
   "id": "fa90ba3d4dcf99a1"
  }
 ],
 "metadata": {
  "kernelspec": {
   "display_name": "Python 3",
   "language": "python",
   "name": "python3"
  },
  "language_info": {
   "codemirror_mode": {
    "name": "ipython",
    "version": 2
   },
   "file_extension": ".py",
   "mimetype": "text/x-python",
   "name": "python",
   "nbconvert_exporter": "python",
   "pygments_lexer": "ipython2",
   "version": "2.7.6"
  }
 },
 "nbformat": 4,
 "nbformat_minor": 5
}

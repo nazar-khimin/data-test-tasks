{
 "cells": [
  {
   "metadata": {},
   "cell_type": "markdown",
   "source": [
    "# Data Quality Checks with PySpark\n",
    "This notebook demonstrates data quality checks on a dataset, including schema validation, null value detection, and duplicate checks, using PySpark."
   ],
   "id": "8dac970eac5d66d0"
  },
  {
   "metadata": {
    "ExecuteTime": {
     "end_time": "2025-03-31T12:16:22.751322Z",
     "start_time": "2025-03-31T12:16:22.749163Z"
    }
   },
   "cell_type": "code",
   "source": [
    "from pyspark.sql import SparkSession\n",
    "from pyspark.sql.functions import col, count, when"
   ],
   "id": "bb54cc1086090fe4",
   "outputs": [],
   "execution_count": 7
  },
  {
   "metadata": {
    "ExecuteTime": {
     "end_time": "2025-03-31T12:16:22.769568Z",
     "start_time": "2025-03-31T12:16:22.764227Z"
    }
   },
   "cell_type": "code",
   "source": "spark = SparkSession.builder.appName(\"Data Quality Checks\").getOrCreate()",
   "id": "c9f809f8fbc9247c",
   "outputs": [],
   "execution_count": 8
  },
  {
   "metadata": {
    "ExecuteTime": {
     "end_time": "2025-03-31T12:16:22.862255Z",
     "start_time": "2025-03-31T12:16:22.775921Z"
    }
   },
   "cell_type": "code",
   "source": "df = spark.read.parquet(\"./../datasets/etl_input.parquet\")",
   "id": "ddde59f5248aa45f",
   "outputs": [],
   "execution_count": 9
  },
  {
   "metadata": {
    "ExecuteTime": {
     "end_time": "2025-03-31T12:16:22.872202Z",
     "start_time": "2025-03-31T12:16:22.869892Z"
    }
   },
   "cell_type": "code",
   "source": [
    "# Schema validation\n",
    "expected_schema = [\"id\", \"name\", \"age\", \"department\", \"salary\"]\n",
    "assert set(df.columns) == set(expected_schema), \"Schema mismatch detected!\""
   ],
   "id": "15bdfd1b84d3b331",
   "outputs": [],
   "execution_count": 10
  },
  {
   "metadata": {
    "ExecuteTime": {
     "end_time": "2025-03-31T12:16:24.587579Z",
     "start_time": "2025-03-31T12:16:22.879022Z"
    }
   },
   "cell_type": "code",
   "source": [
    "# Null values check\n",
    "df.select([count(when(col(c).isNull(), c)).alias(c) for c in df.columns]).show()"
   ],
   "id": "e32d74f329add28a",
   "outputs": [
    {
     "name": "stdout",
     "output_type": "stream",
     "text": [
      "+---+----+---+----------+------+\n",
      "| id|name|age|department|salary|\n",
      "+---+----+---+----------+------+\n",
      "|  0|   0|  0|         0|     0|\n",
      "+---+----+---+----------+------+\n",
      "\n"
     ]
    }
   ],
   "execution_count": 11
  },
  {
   "metadata": {
    "ExecuteTime": {
     "end_time": "2025-03-31T12:16:24.978797Z",
     "start_time": "2025-03-31T12:16:24.595971Z"
    }
   },
   "cell_type": "code",
   "source": [
    "# Duplicate check\n",
    "duplicates = df.groupBy(df.columns).count().filter(col(\"count\") > 1)\n",
    "if duplicates.count() > 0:\n",
    "    print(\"Duplicates found!\")\n",
    "    duplicates.show()"
   ],
   "id": "5842380242c87505",
   "outputs": [],
   "execution_count": 12
  },
  {
   "metadata": {
    "ExecuteTime": {
     "end_time": "2025-03-31T12:16:25.270455Z",
     "start_time": "2025-03-31T12:16:25.003837Z"
    }
   },
   "cell_type": "code",
   "source": "spark.stop()",
   "id": "acf19f98534bedc4",
   "outputs": [],
   "execution_count": 13
  }
 ],
 "metadata": {
  "kernelspec": {
   "display_name": "Python 3",
   "language": "python",
   "name": "python3"
  },
  "language_info": {
   "codemirror_mode": {
    "name": "ipython",
    "version": 2
   },
   "file_extension": ".py",
   "mimetype": "text/x-python",
   "name": "python",
   "nbconvert_exporter": "python",
   "pygments_lexer": "ipython2",
   "version": "2.7.6"
  }
 },
 "nbformat": 4,
 "nbformat_minor": 5
}

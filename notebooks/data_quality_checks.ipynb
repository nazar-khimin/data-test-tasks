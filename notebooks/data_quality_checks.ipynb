{
 "cells": [
  {
   "cell_type": "code",
   "id": "initial_id",
   "metadata": {
    "collapsed": true,
    "ExecuteTime": {
     "end_time": "2025-04-03T22:39:07.946980Z",
     "start_time": "2025-04-03T22:39:07.901690Z"
    }
   },
   "source": [
    "from pyspark.sql import SparkSession\n",
    "import matplotlib.pyplot as plt\n",
    "import seaborn as sns\n",
    "\n",
    "from features.utils.logger_config import logger\n",
    "from features.utils.path_utils import FileLoader\n",
    "from features.data_profiling.data_profiler import DataProfiler\n",
    "from features.data_profiling.outlier_detection import OutlierDetection\n",
    "from features.data_quality_validation.data_quality_checks import DataQualityChecks\n",
    "from features.data_quality_validation.schema_definition import WINE_QUALITY_TYPE_SCHEMA, WINE_QUALITY_RANGE_SCHEMA\n",
    "from features.data_quality_validation.schema_validation import SchemaValidation"
   ],
   "outputs": [],
   "execution_count": 1
  },
  {
   "metadata": {
    "ExecuteTime": {
     "end_time": "2025-04-03T22:39:12.921396Z",
     "start_time": "2025-04-03T22:39:07.950489Z"
    }
   },
   "cell_type": "code",
   "source": [
    "# Initialize Spark session\n",
    "spark = SparkSession.builder.getOrCreate()\n",
    "\n",
    "# Resolve path and load dataset\n",
    "wine_path = \"./datasets/wine_quality_corrupted.csv\"\n",
    "df = FileLoader.load_csv_with_delimiter(spark, wine_path, delimiter=\",\")\n",
    "\n",
    "# Initialize components\n",
    "data_checks = DataQualityChecks(df)\n",
    "schema_validation = SchemaValidation(df)\n",
    "outlier_detection = OutlierDetection(df)\n",
    "data_profiler = DataProfiler(df)\n",
    "\n",
    "logger.info(\"Dataset Preview:\")\n",
    "df.show(5)"
   ],
   "id": "f32aab3f198047cc",
   "outputs": [
    {
     "name": "stderr",
     "output_type": "stream",
     "text": [
      "25/04/04 01:39:08 WARN Utils: Your hostname, adonis-6.local resolves to a loopback address: 127.0.0.1; using 192.168.0.165 instead (on interface en0)\n",
      "25/04/04 01:39:08 WARN Utils: Set SPARK_LOCAL_IP if you need to bind to another address\n",
      "Setting default log level to \"WARN\".\n",
      "To adjust logging level use sc.setLogLevel(newLevel). For SparkR, use setLogLevel(newLevel).\n",
      "25/04/04 01:39:09 WARN NativeCodeLoader: Unable to load native-hadoop library for your platform... using builtin-java classes where applicable\n"
     ]
    },
    {
     "name": "stdout",
     "output_type": "stream",
     "text": [
      "01:39:12 INFO: Dataset Preview:\n",
      "+-------------+----------------+-----------+--------------+---------+-------------------+--------------------+-------+----+---------+-------+-------+---+\n",
      "|fixed acidity|volatile acidity|citric acid|residual sugar|chlorides|free sulfur dioxide|total sulfur dioxide|density|  pH|sulphates|alcohol|quality| Id|\n",
      "+-------------+----------------+-----------+--------------+---------+-------------------+--------------------+-------+----+---------+-------+-------+---+\n",
      "|          7.4|             0.7|        0.0|           1.9|    0.076|               11.0|                34.0| 0.9978|3.51|     0.56|    9.4|    5.0|0.0|\n",
      "|          7.8|            0.88|        0.0|           2.6|    0.098|               25.0|                67.0| 0.9968| 3.2|     0.68|    9.8|    5.0|1.0|\n",
      "|          7.8|            0.76|       0.04|           2.3|    0.092|               15.0|                54.0|  0.997|3.26|     0.65|    9.8|    5.0|2.0|\n",
      "|         11.2|            0.28|       0.56|           1.9|    0.075|               17.0|                60.0|  0.998|3.16|     0.58|    9.8|    6.0|3.0|\n",
      "|          7.4|             0.7|        0.0|           1.9|    0.076|               11.0|                34.0| 0.9978|3.51|     0.56|    9.4|    5.0|4.0|\n",
      "+-------------+----------------+-----------+--------------+---------+-------------------+--------------------+-------+----+---------+-------+-------+---+\n",
      "only showing top 5 rows\n",
      "\n"
     ]
    }
   ],
   "execution_count": 2
  },
  {
   "metadata": {
    "ExecuteTime": {
     "end_time": "2025-04-03T22:39:14.322948Z",
     "start_time": "2025-04-03T22:39:13.047338Z"
    }
   },
   "cell_type": "code",
   "source": [
    "# Validate Schema\n",
    "logger.info(\"Starting schema validation...\")\n",
    "column_check = schema_validation.validate_column_names(schema=WINE_QUALITY_TYPE_SCHEMA)\n",
    "logger.info(f\"Column Name Check Results: {column_check}\")\n",
    "\n",
    "type_check = schema_validation.validate_data_types(type_schema=WINE_QUALITY_TYPE_SCHEMA)\n",
    "logger.info(f\"Data Type Check Results: {type_check}\")\n",
    "\n",
    "schema_result = schema_validation.validate_ranges(range_schema=WINE_QUALITY_RANGE_SCHEMA)\n",
    "logger.info(f\"Schema Validation Result: {schema_result}\")"
   ],
   "id": "dd11d1f1c847e10d",
   "outputs": [
    {
     "name": "stdout",
     "output_type": "stream",
     "text": [
      "01:39:13 INFO: Starting schema validation...\n",
      "01:39:13 INFO: Column Name Check Results: {'missing_columns': [], 'extra_columns': []}\n",
      "01:39:13 INFO: Data Type Check Results: {'fixed acidity': {'expected': 'FloatType()', 'actual': 'DoubleType()'}, 'volatile acidity': {'expected': 'FloatType()', 'actual': 'DoubleType()'}, 'citric acid': {'expected': 'FloatType()', 'actual': 'DoubleType()'}, 'residual sugar': {'expected': 'FloatType()', 'actual': 'DoubleType()'}, 'chlorides': {'expected': 'FloatType()', 'actual': 'DoubleType()'}, 'free sulfur dioxide': {'expected': 'FloatType()', 'actual': 'DoubleType()'}, 'total sulfur dioxide': {'expected': 'FloatType()', 'actual': 'DoubleType()'}, 'density': {'expected': 'FloatType()', 'actual': 'DoubleType()'}, 'pH': {'expected': 'FloatType()', 'actual': 'DoubleType()'}, 'sulphates': {'expected': 'FloatType()', 'actual': 'DoubleType()'}, 'alcohol': {'expected': 'FloatType()', 'actual': 'DoubleType()'}, 'quality': {'expected': 'FloatType()', 'actual': 'DoubleType()'}, 'Id': {'expected': 'FloatType()', 'actual': 'DoubleType()'}}\n",
      "01:39:14 INFO: Schema Validation Result: 9 invalid rows in column 'fixed acidity'.\n",
      "28 invalid rows in column 'chlorides'.\n",
      "3 invalid rows in column 'density'.\n",
      "2 invalid rows in column 'pH'.\n",
      "1 invalid rows in column 'alcohol'.\n"
     ]
    }
   ],
   "execution_count": 3
  },
  {
   "metadata": {
    "ExecuteTime": {
     "end_time": "2025-04-03T22:39:14.797459Z",
     "start_time": "2025-04-03T22:39:14.329334Z"
    }
   },
   "cell_type": "code",
   "source": [
    "# Data Quality Checks\n",
    "logger.info(f\"Null Values Count: {data_checks.check_null_values()}\")\n",
    "logger.info(f\"Duplicate Rows Count: {data_checks.check_duplicates()}\")\n",
    "logger.info(\"Data quality checks completed.\")"
   ],
   "id": "bb8156eeeec1e195",
   "outputs": [
    {
     "name": "stdout",
     "output_type": "stream",
     "text": [
      "01:39:14 INFO: Null Values Count: DataFrame[fixed acidity: bigint, volatile acidity: bigint, citric acid: bigint, residual sugar: bigint, chlorides: bigint, free sulfur dioxide: bigint, total sulfur dioxide: bigint, density: bigint, pH: bigint, sulphates: bigint, alcohol: bigint, quality: bigint, Id: bigint]\n",
      "01:39:14 INFO: Duplicate Rows Count: 10\n",
      "01:39:14 INFO: Data quality checks completed.\n"
     ]
    }
   ],
   "execution_count": 4
  },
  {
   "metadata": {
    "ExecuteTime": {
     "end_time": "2025-04-03T22:39:19.384809Z",
     "start_time": "2025-04-03T22:39:14.803352Z"
    }
   },
   "cell_type": "code",
   "source": [
    "# Perform outlier checks\n",
    "logger.info(f\"Outliers based on Z-score: {outlier_detection.check_outliers_zscore()}\")\n",
    "logger.info(f\"Outliers based on IQR: {outlier_detection.check_outliers_iqr()}\")\n",
    "\n",
    "# Data profiling step\n",
    "statistics = data_profiler.generate_statistics()\n",
    "print(statistics)"
   ],
   "id": "473039aa6ded99c2",
   "outputs": [
    {
     "name": "stderr",
     "output_type": "stream",
     "text": [
      "25/04/04 01:39:14 WARN SparkStringUtils: Truncated the string representation of a plan since it was too large. This behavior can be adjusted by setting 'spark.sql.debug.maxToStringFields'.\n"
     ]
    },
    {
     "name": "stdout",
     "output_type": "stream",
     "text": [
      "01:39:16 INFO: Outliers based on Z-score: {'fixed acidity': 6, 'volatile acidity': 5, 'citric acid': 1, 'residual sugar': 22, 'chlorides': 21, 'free sulfur dioxide': 14, 'total sulfur dioxide': 11, 'density': 3, 'pH': 5, 'sulphates': 21, 'alcohol': 8, 'quality': 6, 'Id': 0}\n",
      "01:39:17 INFO: Outliers based on IQR: {'fixed acidity': 49, 'volatile acidity': 14, 'citric acid': 1, 'residual sugar': 122, 'chlorides': 85, 'free sulfur dioxide': 33, 'total sulfur dioxide': 51, 'density': 39, 'pH': 16, 'sulphates': 49, 'alcohol': 18, 'quality': 22, 'Id': 0}\n",
      "Descriptive Statistics:\n",
      "summary      fixed acidity    volatile acidity         citric acid     residual sugar            chlorides free sulfur dioxide total sulfur dioxide               density                pH          sulphates            alcohol            quality                Id\n",
      "  count               1158                1158                1158               1158                 1158                1158                 1158                  1158              1158               1158               1106               1153              1153\n",
      "   mean   8.41200345423144   0.532305699481865 0.26898100172711475  2.550604490500861  0.08671243523316033  15.688687392055268    45.88989637305699    0.9967896718480141 3.311502590673577 0.6579274611398963 10.441681735985528 5.6539462272333045 806.7432784041631\n",
      " stddev 2.4820850158520313 0.17954541123412762 0.19693063413385256 1.3879340450632653 0.047053889193919736    10.3408848544033    32.66531271791227 0.0023011411011910174 0.156807457236472 0.1700237054668782 1.1013009925049873 0.8062928200655848  465.080606449189\n",
      "    min                4.6                0.12                 0.0                0.9                0.012                 1.0                  6.0                  0.99              2.74               0.33                8.4                3.0               0.0\n",
      "    max               50.0                1.58                 1.0               15.5                0.611                68.0                289.0                  1.03              4.01                2.0               16.0                8.0            1597.0\n",
      "\n",
      "Additional Statistics:\n",
      "Column: fixed acidity | Null Count: 0 | Unique Count: 97\n",
      "Column: volatile acidity | Null Count: 0 | Unique Count: 128\n",
      "Column: citric acid | Null Count: 0 | Unique Count: 76\n",
      "Column: residual sugar | Null Count: 0 | Unique Count: 85\n",
      "Column: chlorides | Null Count: 0 | Unique Count: 133\n",
      "Column: free sulfur dioxide | Null Count: 0 | Unique Count: 49\n",
      "Column: total sulfur dioxide | Null Count: 0 | Unique Count: 132\n",
      "Column: density | Null Count: 0 | Unique Count: 401\n",
      "Column: pH | Null Count: 0 | Unique Count: 85\n",
      "Column: sulphates | Null Count: 0 | Unique Count: 88\n",
      "Column: alcohol | Null Count: 52 | Unique Count: 62\n",
      "Column: quality | Null Count: 5 | Unique Count: 6\n",
      "Column: Id | Null Count: 5 | Unique Count: 1201\n"
     ]
    }
   ],
   "execution_count": 5
  },
  {
   "metadata": {
    "ExecuteTime": {
     "end_time": "2025-04-03T22:39:19.679130Z",
     "start_time": "2025-04-03T22:39:19.390611Z"
    }
   },
   "cell_type": "code",
   "source": [
    "# Visualizing Missing Values\n",
    "null_values = data_checks.check_null_values().toPandas()\n",
    "plt.figure(figsize=(12, 6))\n",
    "sns.heatmap(null_values.T, cbar=True, cmap='coolwarm').set_title('Missing Values Heatmap')  # Transpose for better readability\n",
    "plt.show()"
   ],
   "id": "f73da801c6ed8c79",
   "outputs": [
    {
     "data": {
      "text/plain": [
       "<Figure size 1200x600 with 2 Axes>"
      ],
      "image/png": "[encoded data removed]"
     },
     "metadata": {},
     "output_type": "display_data"
    }
   ],
   "execution_count": 6
  },
  {
   "metadata": {},
   "cell_type": "code",
   "source": [
    "# Histograms for All Features\n",
    "plt.figure(figsize=(12, 6))\n",
    "df.toPandas().hist(bins=30, figsize=(12, 6), edgecolor='black')\n",
    "plt.suptitle('Histograms for All Features', fontsize=16)\n",
    "plt.show()"
   ],
   "id": "31bddc54d2d6b97c",
   "outputs": [],
   "execution_count": null
  }
 ],
 "metadata": {
  "kernelspec": {
   "display_name": "Python 3",
   "language": "python",
   "name": "python3"
  },
  "language_info": {
   "codemirror_mode": {
    "name": "ipython",
    "version": 2
   },
   "file_extension": ".py",
   "mimetype": "text/x-python",
   "name": "python",
   "nbconvert_exporter": "python",
   "pygments_lexer": "ipython2",
   "version": "2.7.6"
  }
 },
 "nbformat": 4,
 "nbformat_minor": 5
}

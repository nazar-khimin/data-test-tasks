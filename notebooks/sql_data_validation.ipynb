{
 "cells": [
  {
   "cell_type": "code",
   "id": "initial_id",
   "metadata": {
    "collapsed": true,
    "ExecuteTime": {
     "end_time": "2025-03-31T12:59:14.931452Z",
     "start_time": "2025-03-31T12:59:12.366667Z"
    }
   },
   "source": [
    "# Import libraries\n",
    "from pyspark.sql import SparkSession\n",
    "from pyspark.sql.functions import col, count, when\n",
    "\n",
    "# Start Spark\n",
    "spark = SparkSession.builder.appName(\"SQLDataValidation\").getOrCreate()\n",
    "\n",
    "# Load ETL output data\n",
    "df = spark.read.parquet(\"../datasets/etl_output.parquet\")\n",
    "\n",
    "# Show dataset\n",
    "df.show(5)\n"
   ],
   "outputs": [
    {
     "name": "stdout",
     "output_type": "stream",
     "text": [
      "+---+-------+----------+------+--------------+\n",
      "| id|   name|department|salary|ingestion_date|\n",
      "+---+-------+----------+------+--------------+\n",
      "|  2|    Bob|   Finance| 55000|    2025-01-01|\n",
      "|  3|Charlie|        IT| 60000|    2025-01-01|\n",
      "|  1|  Alice|        HR| 50000|    2025-01-01|\n",
      "+---+-------+----------+------+--------------+\n",
      "\n"
     ]
    }
   ],
   "execution_count": 2
  },
  {
   "metadata": {
    "ExecuteTime": {
     "end_time": "2025-03-31T12:59:14.948679Z",
     "start_time": "2025-03-31T12:59:14.945354Z"
    }
   },
   "cell_type": "code",
   "source": [
    "# Validate Schema\n",
    "expected_schema = [\"id\", \"name\", \"amount\", \"processed_date\"]\n",
    "actual_schema = df.columns\n",
    "\n",
    "if set(expected_schema) != set(actual_schema):\n",
    "    print(\"Schema mismatch detected!\")\n",
    "else:\n",
    "    print(\"Schema is valid.\")\n"
   ],
   "id": "b0384f666238fc17",
   "outputs": [
    {
     "name": "stdout",
     "output_type": "stream",
     "text": [
      "Schema mismatch detected!\n"
     ]
    }
   ],
   "execution_count": 3
  },
  {
   "metadata": {
    "ExecuteTime": {
     "end_time": "2025-03-31T12:59:15.452113Z",
     "start_time": "2025-03-31T12:59:15.038957Z"
    }
   },
   "cell_type": "code",
   "source": [
    "# Check for NULLs in critical columns\n",
    "df.select([count(when(col(c).isNull(), c)).alias(c) for c in df.columns]).show()"
   ],
   "id": "c51092bd3b550dd0",
   "outputs": [
    {
     "name": "stdout",
     "output_type": "stream",
     "text": [
      "+---+----+----------+------+--------------+\n",
      "| id|name|department|salary|ingestion_date|\n",
      "+---+----+----------+------+--------------+\n",
      "|  0|   0|         0|     0|             0|\n",
      "+---+----+----------+------+--------------+\n",
      "\n"
     ]
    }
   ],
   "execution_count": 4
  }
 ],
 "metadata": {
  "kernelspec": {
   "display_name": "Python 3",
   "language": "python",
   "name": "python3"
  },
  "language_info": {
   "codemirror_mode": {
    "name": "ipython",
    "version": 2
   },
   "file_extension": ".py",
   "mimetype": "text/x-python",
   "name": "python",
   "nbconvert_exporter": "python",
   "pygments_lexer": "ipython2",
   "version": "2.7.6"
  }
 },
 "nbformat": 4,
 "nbformat_minor": 5
}

import pandas as pd

# Load Datasets
etl_input = pd.read_parquet("datasets/etl_input.parquet")
etl_output = pd.read_parquet("datasets/etl_output.parquet")

# Row Count Validation
assert len(etl_input) == len(etl_output), "Row count mismatch!"

# Business Rule: Salary should not be negative
assert all(etl_output["salary"] >= 0), "Invalid salary values found!"

# Check for Missing Values
missing_values = etl_output.isnull().sum()
print("Missing Values: \n", missing_values)

# Data Transformation Check (e.g., added 'ingestion_date' column)
assert "ingestion_date" in etl_output.columns, "ETL Transformation missing!"

print("✅ ETL Validation Passed!")
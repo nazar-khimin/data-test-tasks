{
 "cells": [
  {
   "cell_type": "code",
   "id": "initial_id",
   "metadata": {
    "collapsed": true,
    "ExecuteTime": {
     "end_time": "2025-04-02T10:33:39.263099Z",
     "start_time": "2025-04-02T10:33:39.254112Z"
    }
   },
   "source": [
    "import pandas as pd\n",
    "\n",
    "from features.data_quality_validation.schema_definition import WINE_QUALITY_TYPE_SCHEMA\n",
    "from features.data_quality_validation.schema_validation import SchemaValidation\n",
    "from features.etl.etl_validation import ETLValidation\n",
    "\n",
    "wine_path = \"./../datasets/wine_quality_corrupted.csv\"\n",
    "df = pd.read_csv(wine_path)"
   ],
   "outputs": [],
   "execution_count": 1
  },
  {
   "metadata": {
    "ExecuteTime": {
     "end_time": "2025-04-02T10:33:39.268524Z",
     "start_time": "2025-04-02T10:33:39.265962Z"
    }
   },
   "cell_type": "code",
   "source": [
    "# aka ETL with simple transformation\n",
    "df_transformed = df.copy()\n",
    "df_transformed['alcohol_category'] = df_transformed['alcohol'].apply(lambda x: 'High' if x > 10 else 'Low')"
   ],
   "id": "bb27c76f008fec02",
   "outputs": [],
   "execution_count": 2
  },
  {
   "metadata": {
    "ExecuteTime": {
     "end_time": "2025-04-02T10:33:39.391020Z",
     "start_time": "2025-04-02T10:33:39.388124Z"
    }
   },
   "cell_type": "code",
   "source": [
    "etl_validator = ETLValidation(df, df_transformed)\n",
    "\n",
    "# Perform ETL validation checks\n",
    "print(\"Row Count Match:\", etl_validator.validate_row_count())\n",
    "print(\"Column Validation:\", etl_validator.validate_columns())\n",
    "print(\"Alcohol Aggregation Check:\", etl_validator.validate_aggregates(\"alcohol\"))\n",
    "print(\"Completeness Check:\", etl_validator.validate_completeness(\"quality\"))"
   ],
   "id": "8043c2c8ad189961",
   "outputs": [
    {
     "name": "stdout",
     "output_type": "stream",
     "text": [
      "Row Count Match: (1158, 1158, True)\n",
      "Column Validation: {'missing': [], 'extra': ['alcohol_category']}\n",
      "Alcohol Aggregation Check: {'sum_difference': 0.0, 'avg_difference': 0.0}\n",
      "Completeness Check: {'missing_keys': [nan, nan, nan, nan, nan]}\n"
     ]
    }
   ],
   "execution_count": 3
  },
  {
   "metadata": {
    "ExecuteTime": {
     "end_time": "2025-04-02T10:33:39.467443Z",
     "start_time": "2025-04-02T10:33:39.462302Z"
    }
   },
   "cell_type": "code",
   "source": [
    "schema_validator = SchemaValidation(df_transformed)\n",
    "\n",
    "print(\"Data Type Validation:\", schema_validator.validate_data_types(WINE_QUALITY_TYPE_SCHEMA))\n",
    "print(\"Alcohol > 0 Check:\", schema_validator.validate_business_rules(\"alcohol\", lambda x: x > 0))\n",
    "print(\"High Alcohol Check:\", schema_validator.validate_business_rules(\"alcohol_category\", lambda x: x == 'High'))\n",
    "print(\"High Alcohol Check:\", schema_validator.validate_business_rules(\"alcohol_category\", lambda x: x == 'Low'))"
   ],
   "id": "710bcebdd2857a5f",
   "outputs": [
    {
     "name": "stdout",
     "output_type": "stream",
     "text": [
      "Data Type Validation: {}\n",
      "Alcohol > 0 Check: 52 rows violate alcohol condition, 1106 rows meet the condition.\n",
      "High Alcohol Check: 574 rows violate alcohol_category condition, 584 rows meet the condition.\n",
      "High Alcohol Check: 584 rows violate alcohol_category condition, 574 rows meet the condition.\n"
     ]
    }
   ],
   "execution_count": 4
  }
 ],
 "metadata": {
  "kernelspec": {
   "display_name": "Python 3",
   "language": "python",
   "name": "python3"
  },
  "language_info": {
   "codemirror_mode": {
    "name": "ipython",
    "version": 2
   },
   "file_extension": ".py",
   "mimetype": "text/x-python",
   "name": "python",
   "nbconvert_exporter": "python",
   "pygments_lexer": "ipython2",
   "version": "2.7.6"
  }
 },
 "nbformat": 4,
 "nbformat_minor": 5
}

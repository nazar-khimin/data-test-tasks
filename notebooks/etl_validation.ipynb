{
 "cells": [
  {
   "cell_type": "code",
   "id": "initial_id",
   "metadata": {
    "collapsed": true,
    "ExecuteTime": {
     "end_time": "2025-03-31T12:25:49.347608Z",
     "start_time": "2025-03-31T12:25:49.345184Z"
    }
   },
   "source": "import pandas as pd",
   "outputs": [],
   "execution_count": 8
  },
  {
   "metadata": {
    "ExecuteTime": {
     "end_time": "2025-03-31T12:25:49.360563Z",
     "start_time": "2025-03-31T12:25:49.354579Z"
    }
   },
   "cell_type": "code",
   "source": [
    "# Load Datasets\n",
    "etl_input = pd.read_parquet(\"./../datasets/etl_input.parquet\", engine='fastparquet')\n",
    "etl_output = pd.read_parquet(\"./../datasets/etl_output.parquet\", engine='fastparquet')"
   ],
   "id": "fe85406b78d230a7",
   "outputs": [],
   "execution_count": 9
  },
  {
   "metadata": {
    "ExecuteTime": {
     "end_time": "2025-03-31T12:25:49.368959Z",
     "start_time": "2025-03-31T12:25:49.367129Z"
    }
   },
   "cell_type": "code",
   "source": [
    "# Row Count Validation\n",
    "assert len(etl_input) == len(etl_output), \"Row count mismatch!\""
   ],
   "id": "6b3a34dcf3a8a491",
   "outputs": [],
   "execution_count": 10
  },
  {
   "metadata": {
    "ExecuteTime": {
     "end_time": "2025-03-31T12:25:49.377116Z",
     "start_time": "2025-03-31T12:25:49.375066Z"
    }
   },
   "cell_type": "code",
   "source": [
    "# Business Rule: Salary should not be negative\n",
    "assert all(etl_output[\"salary\"] >= 0), \"Invalid salary values found!\""
   ],
   "id": "5ce8daa2b0c22a5d",
   "outputs": [],
   "execution_count": 11
  },
  {
   "metadata": {
    "ExecuteTime": {
     "end_time": "2025-03-31T12:25:49.385443Z",
     "start_time": "2025-03-31T12:25:49.382604Z"
    }
   },
   "cell_type": "code",
   "source": [
    "# Check for Missing Values\n",
    "missing_values = etl_output.isnull().sum()\n",
    "print(\"Missing Values: \\n\", missing_values)"
   ],
   "id": "e5047e8126a7448b",
   "outputs": [
    {
     "name": "stdout",
     "output_type": "stream",
     "text": [
      "Missing Values: \n",
      " id                0\n",
      "name              0\n",
      "department        0\n",
      "salary            0\n",
      "ingestion_date    0\n",
      "dtype: int64\n"
     ]
    }
   ],
   "execution_count": 12
  },
  {
   "metadata": {
    "ExecuteTime": {
     "end_time": "2025-03-31T12:25:49.452427Z",
     "start_time": "2025-03-31T12:25:49.450494Z"
    }
   },
   "cell_type": "code",
   "source": [
    "# Data Transformation Check (e.g., added 'ingestion_date' column)\n",
    "assert \"ingestion_date\" in etl_output.columns, \"ETL Transformation missing!\""
   ],
   "id": "15b12b03f7e54c4d",
   "outputs": [],
   "execution_count": 13
  },
  {
   "metadata": {
    "ExecuteTime": {
     "end_time": "2025-03-31T12:25:49.464359Z",
     "start_time": "2025-03-31T12:25:49.462416Z"
    }
   },
   "cell_type": "code",
   "source": "print(\"ETL Validation Passed!\")",
   "id": "ee6a5d987e78949a",
   "outputs": [
    {
     "name": "stdout",
     "output_type": "stream",
     "text": [
      "ETL Validation Passed!\n"
     ]
    }
   ],
   "execution_count": 14
  }
 ],
 "metadata": {
  "kernelspec": {
   "display_name": "Python 3",
   "language": "python",
   "name": "python3"
  },
  "language_info": {
   "codemirror_mode": {
    "name": "ipython",
    "version": 2
   },
   "file_extension": ".py",
   "mimetype": "text/x-python",
   "name": "python",
   "nbconvert_exporter": "python",
   "pygments_lexer": "ipython2",
   "version": "2.7.6"
  }
 },
 "nbformat": 4,
 "nbformat_minor": 5
}

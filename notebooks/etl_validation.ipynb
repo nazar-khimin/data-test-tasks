{
 "cells": [
  {
   "cell_type": "code",
   "id": "initial_id",
   "metadata": {
    "collapsed": true,
    "ExecuteTime": {
     "end_time": "2025-04-02T12:03:34.067454Z",
     "start_time": "2025-04-02T12:03:33.640870Z"
    }
   },
   "source": [
    "import pandas as pd\n",
    "from features.utiils import logger\n",
    "from features.data_quality_validation.schema_definition import WINE_QUALITY_TYPE_SCHEMA\n",
    "from features.data_quality_validation.schema_validation import SchemaValidation\n",
    "from features.etl.etl_validation import ETLValidation\n",
    "\n",
    "wine_path = \"./../datasets/wine_quality_corrupted.csv\"\n",
    "df = pd.read_csv(wine_path)"
   ],
   "outputs": [],
   "execution_count": 1
  },
  {
   "metadata": {
    "ExecuteTime": {
     "end_time": "2025-04-02T12:03:34.076569Z",
     "start_time": "2025-04-02T12:03:34.074097Z"
    }
   },
   "cell_type": "code",
   "source": [
    "# aka ETL with simple transformation\n",
    "df_transformed = df.copy()\n",
    "df_transformed['alcohol_category'] = df_transformed['alcohol'].apply(lambda x: 'High' if x > 10 else 'Low')"
   ],
   "id": "bb27c76f008fec02",
   "outputs": [],
   "execution_count": 2
  },
  {
   "metadata": {
    "ExecuteTime": {
     "end_time": "2025-04-02T12:03:34.184658Z",
     "start_time": "2025-04-02T12:03:34.175565Z"
    }
   },
   "cell_type": "code",
   "source": [
    "etl_validator = ETLValidation(df, df_transformed)\n",
    "\n",
    "# Perform ETL validation checks\n",
    "logger.info(f\"Row Count Match: {etl_validator.validate_row_count()}\")\n",
    "logger.info(f\"Column Validation: {etl_validator.validate_columns()}\")\n",
    "logger.info(f\"Alcohol Aggregation Check: {etl_validator.validate_aggregates('alcohol')}\")\n",
    "logger.info(f\"Completeness Check: {etl_validator.validate_completeness('quality')}\")"
   ],
   "id": "8043c2c8ad189961",
   "outputs": [
    {
     "name": "stderr",
     "output_type": "stream",
     "text": [
      "15:03:34 INFO: Row Count Match: (1158, 1158, True)\n",
      "15:03:34 INFO: Column Validation: {'missing': [], 'extra': ['alcohol_category']}\n",
      "15:03:34 INFO: Alcohol Aggregation Check: {'sum_difference': 0.0, 'avg_difference': 0.0}\n",
      "15:03:34 INFO: Completeness Check: {'missing_keys': [nan, nan, nan, nan, nan]}\n"
     ]
    }
   ],
   "execution_count": 3
  },
  {
   "metadata": {
    "ExecuteTime": {
     "end_time": "2025-04-02T12:03:34.270204Z",
     "start_time": "2025-04-02T12:03:34.262904Z"
    }
   },
   "cell_type": "code",
   "source": [
    "schema_validator = SchemaValidation(df_transformed)\n",
    "\n",
    "logger.info(f\"Data Type Validation: \"\n",
    "            f\"{schema_validator.validate_data_types(WINE_QUALITY_TYPE_SCHEMA)}\")\n",
    "logger.info(f\"Alcohol > 0 Check: \"\n",
    "            f\"{schema_validator.validate_business_rules('alcohol', lambda x: x > 0)}\")\n",
    "logger.info(f\"High Alcohol Check (High): \"\n",
    "            f\"{schema_validator.validate_business_rules('alcohol_category', lambda x: x == 'High')}\")\n",
    "logger.info(f\"High Alcohol Check (Low): \"\n",
    "            f\"{schema_validator.validate_business_rules('alcohol_category', lambda x: x == 'Low')}\")\n"
   ],
   "id": "6618c5c616860899",
   "outputs": [
    {
     "name": "stderr",
     "output_type": "stream",
     "text": [
      "15:03:34 INFO: Data Type Validation: {}\n",
      "15:03:34 INFO: Alcohol > 0 Check: (52, 1106)\n",
      "15:03:34 INFO: High Alcohol Check (High): (574, 584)\n",
      "15:03:34 INFO: High Alcohol Check (Low): (584, 574)\n"
     ]
    }
   ],
   "execution_count": 4
  }
 ],
 "metadata": {
  "kernelspec": {
   "display_name": "Python 3",
   "language": "python",
   "name": "python3"
  },
  "language_info": {
   "codemirror_mode": {
    "name": "ipython",
    "version": 2
   },
   "file_extension": ".py",
   "mimetype": "text/x-python",
   "name": "python",
   "nbconvert_exporter": "python",
   "pygments_lexer": "ipython2",
   "version": "2.7.6"
  }
 },
 "nbformat": 4,
 "nbformat_minor": 5
}

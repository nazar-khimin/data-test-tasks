{
 "cells": [
  {
   "cell_type": "code",
   "id": "initial_id",
   "metadata": {
    "collapsed": true,
    "ExecuteTime": {
     "end_time": "2025-03-31T16:06:09.187197Z",
     "start_time": "2025-03-31T16:06:09.174635Z"
    }
   },
   "source": [
    "# Import libraries\n",
    "import logging\n",
    "from pyspark.sql import SparkSession\n",
    "\n",
    "# Start Spark\n",
    "spark = SparkSession.builder.appName(\"RootCauseAnalysis\").getOrCreate()\n",
    "\n",
    "# Setup logging\n",
    "logging.basicConfig(level=logging.INFO)\n",
    "logger = logging.getLogger(\"DataPipelineLogger\")\n",
    "\n",
    "logger.info(\"Pipeline started successfully.\")"
   ],
   "outputs": [
    {
     "name": "stderr",
     "output_type": "stream",
     "text": [
      "INFO:DataPipelineLogger:Pipeline started successfully.\n"
     ]
    }
   ],
   "execution_count": 4
  },
  {
   "metadata": {
    "ExecuteTime": {
     "end_time": "2025-03-31T16:06:09.615569Z",
     "start_time": "2025-03-31T16:06:09.277221Z"
    }
   },
   "cell_type": "code",
   "source": [
    "# Load datasets\n",
    "df_input = spark.read.parquet(\"../datasets/etl_input.parquet\")\n",
    "df_output = spark.read.parquet(\"../datasets/etl_output.parquet\")\n",
    "\n",
    "# Compare row counts\n",
    "input_count = df_input.count()\n",
    "output_count = df_output.count()\n",
    "\n",
    "print(f\"Input Rows: {input_count}\")\n",
    "print(f\"Output Rows: {output_count}\")\n",
    "\n",
    "if output_count < input_count * 0.95:\n",
    "    logger.warning(\"️Potential data loss detected! Less than 95% of input rows remain.\")\n"
   ],
   "id": "c82c7c84c5ffff46",
   "outputs": [
    {
     "name": "stdout",
     "output_type": "stream",
     "text": [
      "Input Rows: 3\n",
      "Output Rows: 3\n"
     ]
    }
   ],
   "execution_count": 5
  },
  {
   "metadata": {
    "ExecuteTime": {
     "end_time": "2025-03-31T16:06:09.685654Z",
     "start_time": "2025-03-31T16:06:09.683371Z"
    }
   },
   "cell_type": "code",
   "source": [
    "# Track data lineage\n",
    "def track_data_lineage(source, transformation, target):\n",
    "    logger.info(f\"Data Lineage: {source} → {transformation} → {target}\")\n",
    "\n",
    "track_data_lineage(\"etl_input.parquet\", \"Data Cleaning\", \"etl_output.parquet\")"
   ],
   "id": "87348c5bcaff5316",
   "outputs": [
    {
     "name": "stderr",
     "output_type": "stream",
     "text": [
      "INFO:DataPipelineLogger:Data Lineage: etl_input.parquet → Data Cleaning → etl_output.parquet\n"
     ]
    }
   ],
   "execution_count": 6
  }
 ],
 "metadata": {
  "kernelspec": {
   "display_name": "Python 3",
   "language": "python",
   "name": "python3"
  },
  "language_info": {
   "codemirror_mode": {
    "name": "ipython",
    "version": 2
   },
   "file_extension": ".py",
   "mimetype": "text/x-python",
   "name": "python",
   "nbconvert_exporter": "python",
   "pygments_lexer": "ipython2",
   "version": "2.7.6"
  }
 },
 "nbformat": 4,
 "nbformat_minor": 5
}

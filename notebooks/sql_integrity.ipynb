{
 "cells": [
  {
   "cell_type": "code",
   "id": "initial_id",
   "metadata": {
    "collapsed": true,
    "ExecuteTime": {
     "end_time": "2025-04-02T11:22:16.835181Z",
     "start_time": "2025-04-02T11:22:16.828529Z"
    }
   },
   "source": [
    "import pandas as pd\n",
    "import sqlite3\n",
    "\n",
    "from features.sql_data_validation.sql_integrity import SQLDataIntegrityChecks\n",
    "\n",
    "# File paths\n",
    "csv_path = \"./../datasets/wine_quality_corrupted.csv\"\n",
    "db_path = \"./../datasets/wine_quality.db\""
   ],
   "outputs": [],
   "execution_count": 6
  },
  {
   "metadata": {
    "ExecuteTime": {
     "end_time": "2025-04-02T11:22:16.880049Z",
     "start_time": "2025-04-02T11:22:16.855129Z"
    }
   },
   "cell_type": "code",
   "source": [
    "# Load and Save Wine Dataset into SQLite\n",
    "# Load wine dataset\n",
    "wine_data = pd.read_csv(csv_path)\n",
    "\n",
    "# Create SQLite connection\n",
    "conn = sqlite3.connect(db_path)\n",
    "cursor = conn.cursor()\n",
    "\n",
    "# Save wine_data table into SQLite\n",
    "table_name = \"wine_data\"\n",
    "wine_data.to_sql(table_name, conn, if_exists=\"replace\", index=False)\n",
    "\n",
    "# Create a reference table for quality levels\n",
    "quality_levels = pd.DataFrame({\"quality\": sorted(wine_data[\"quality\"].unique())})\n",
    "quality_levels.to_sql(\"quality_levels\", conn, if_exists=\"replace\", index=False)\n",
    "\n",
    "# Commit changes\n",
    "conn.commit()\n",
    "print(f\"Data successfully saved into {db_path}\")\n",
    "\n",
    "# Close connection (will reopen for validation)\n",
    "conn.close()"
   ],
   "id": "724cce4791929ea1",
   "outputs": [
    {
     "name": "stdout",
     "output_type": "stream",
     "text": [
      "Data successfully saved into ./../datasets/wine_quality.db\n"
     ]
    }
   ],
   "execution_count": 7
  },
  {
   "metadata": {
    "ExecuteTime": {
     "end_time": "2025-04-02T11:22:16.890088Z",
     "start_time": "2025-04-02T11:22:16.887949Z"
    }
   },
   "cell_type": "code",
   "source": "checker = SQLDataIntegrityChecks(db_path)",
   "id": "57bcdc41e187aaf1",
   "outputs": [
    {
     "name": "stdout",
     "output_type": "stream",
     "text": [
      "Connected to database: ./../datasets/wine_quality.db\n"
     ]
    }
   ],
   "execution_count": 8
  },
  {
   "metadata": {
    "ExecuteTime": {
     "end_time": "2025-04-02T11:22:16.970368Z",
     "start_time": "2025-04-02T11:22:16.967138Z"
    }
   },
   "cell_type": "code",
   "source": [
    "# Referential Integrity Check\n",
    "missing_referential = checker.check_referential_integrity(\"wine_data\", \"quality\", \"quality_levels\", \"quality\")\n",
    "print(f\"Referential Integrity Violations: {missing_referential} rows\")\n",
    "\n",
    "# Business Rule Check\n",
    "invalid_business = checker.check_business_rule(\"wine_data\", \"alcohol\", \"alcohol > 0\")\n",
    "print(f\"Business Rule Violations (Alcohol > 0): {invalid_business} rows\")"
   ],
   "id": "381a727bef6ea498",
   "outputs": [
    {
     "name": "stdout",
     "output_type": "stream",
     "text": [
      "Referential Integrity Violations: 5\n",
      "Violating Values: [(None,), (None,), (None,), (None,), (None,)]\n",
      "Referential Integrity Violations: 5 rows\n",
      "Business Rule Violations (Alcohol > 0): 0 rows\n"
     ]
    }
   ],
   "execution_count": 9
  },
  {
   "metadata": {
    "ExecuteTime": {
     "end_time": "2025-04-02T11:22:17.056341Z",
     "start_time": "2025-04-02T11:22:17.054524Z"
    }
   },
   "cell_type": "code",
   "source": [
    "# STEP 4: Close Checker\n",
    "checker.close()"
   ],
   "id": "21b8051f8c3b2a59",
   "outputs": [
    {
     "name": "stdout",
     "output_type": "stream",
     "text": [
      "Database connection closed.\n"
     ]
    }
   ],
   "execution_count": 10
  }
 ],
 "metadata": {
  "kernelspec": {
   "display_name": "Python 3",
   "language": "python",
   "name": "python3"
  },
  "language_info": {
   "codemirror_mode": {
    "name": "ipython",
    "version": 2
   },
   "file_extension": ".py",
   "mimetype": "text/x-python",
   "name": "python",
   "nbconvert_exporter": "python",
   "pygments_lexer": "ipython2",
   "version": "2.7.6"
  }
 },
 "nbformat": 4,
 "nbformat_minor": 5
}

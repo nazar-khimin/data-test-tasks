{
 "cells": [
  {
   "cell_type": "code",
   "id": "initial_id",
   "metadata": {
    "collapsed": true,
    "ExecuteTime": {
     "end_time": "2025-04-02T11:50:58.462434Z",
     "start_time": "2025-04-02T11:50:57.996746Z"
    }
   },
   "source": [
    "import pandas as pd\n",
    "import sqlite3\n",
    "\n",
    "from features.sql_data_validation.sql_integrity import SQLDataIntegrityChecks\n",
    "from features.utils.logger_config import logger\n",
    "\n",
    "# File paths\n",
    "csv_path = \"./../datasets/wine_quality_corrupted.csv\"\n",
    "db_path = \"./../datasets/wine_quality.db\""
   ],
   "outputs": [],
   "execution_count": 1
  },
  {
   "metadata": {
    "ExecuteTime": {
     "end_time": "2025-04-02T11:50:58.491409Z",
     "start_time": "2025-04-02T11:50:58.469040Z"
    }
   },
   "cell_type": "code",
   "source": [
    "# Load and Save Wine Dataset into SQLite\n",
    "# Load wine dataset\n",
    "wine_data = pd.read_csv(csv_path)\n",
    "\n",
    "# Create SQLite connection\n",
    "conn = sqlite3.connect(db_path)\n",
    "cursor = conn.cursor()\n",
    "\n",
    "# Save wine_data table into SQLite\n",
    "table_name = \"wine_data\"\n",
    "wine_data.to_sql(table_name, conn, if_exists=\"replace\", index=False)\n",
    "\n",
    "# Create a reference table for quality levels\n",
    "quality_levels = pd.DataFrame({\"quality\": sorted(wine_data[\"quality\"].unique())})\n",
    "quality_levels.to_sql(\"quality_levels\", conn, if_exists=\"replace\", index=False)\n",
    "\n",
    "# Commit changes\n",
    "conn.commit()\n",
    "logger.info(f\"Data successfully saved into {db_path}\")\n",
    "\n",
    "# Close connection (will reopen for validation)\n",
    "conn.close()"
   ],
   "id": "724cce4791929ea1",
   "outputs": [
    {
     "name": "stderr",
     "output_type": "stream",
     "text": [
      "14:50:58-INFO: Data successfully saved into ./../datasets/wine_quality.db\n"
     ]
    }
   ],
   "execution_count": 2
  },
  {
   "metadata": {
    "ExecuteTime": {
     "end_time": "2025-04-02T11:50:58.589836Z",
     "start_time": "2025-04-02T11:50:58.587543Z"
    }
   },
   "cell_type": "code",
   "source": "checker = SQLDataIntegrityChecks(db_path)",
   "id": "57bcdc41e187aaf1",
   "outputs": [
    {
     "name": "stderr",
     "output_type": "stream",
     "text": [
      "14:50:58-INFO: Connected to database: ./../datasets/wine_quality.db\n"
     ]
    }
   ],
   "execution_count": 3
  },
  {
   "metadata": {
    "ExecuteTime": {
     "end_time": "2025-04-02T11:50:58.600906Z",
     "start_time": "2025-04-02T11:50:58.596495Z"
    }
   },
   "cell_type": "code",
   "source": [
    "# Referential Integrity Check\n",
    "missing_referential = checker.check_referential_integrity(\"wine_data\", \"quality\", \"quality_levels\", \"quality\")\n",
    "logger.info(f\"Referential Integrity Violations: {missing_referential} rows\")\n",
    "\n",
    "# Business Rule Check\n",
    "invalid_business = checker.check_business_rule(\"wine_data\", \"alcohol\", \"alcohol > 0\")\n",
    "logger.info(f\"Business Rule Violations (Alcohol > 0): {invalid_business} rows\")"
   ],
   "id": "381a727bef6ea498",
   "outputs": [
    {
     "name": "stderr",
     "output_type": "stream",
     "text": [
      "14:50:58-INFO: Referential Integrity Violations: 5\n",
      "14:50:58-INFO: Violating Values: [(None,), (None,), (None,), (None,), (None,)]\n",
      "14:50:58-INFO: Referential Integrity Violations: 5 rows\n",
      "14:50:58-INFO: Business Rule Violations (Alcohol > 0): 0 rows\n"
     ]
    }
   ],
   "execution_count": 4
  },
  {
   "metadata": {
    "ExecuteTime": {
     "end_time": "2025-04-02T11:50:58.688769Z",
     "start_time": "2025-04-02T11:50:58.686705Z"
    }
   },
   "cell_type": "code",
   "source": [
    "# STEP 4: Close Checker\n",
    "checker.close()"
   ],
   "id": "21b8051f8c3b2a59",
   "outputs": [
    {
     "name": "stderr",
     "output_type": "stream",
     "text": [
      "14:50:58-INFO: Database connection closed.\n"
     ]
    }
   ],
   "execution_count": 5
  }
 ],
 "metadata": {
  "kernelspec": {
   "display_name": "Python 3",
   "language": "python",
   "name": "python3"
  },
  "language_info": {
   "codemirror_mode": {
    "name": "ipython",
    "version": 2
   },
   "file_extension": ".py",
   "mimetype": "text/x-python",
   "name": "python",
   "nbconvert_exporter": "python",
   "pygments_lexer": "ipython2",
   "version": "2.7.6"
  }
 },
 "nbformat": 4,
 "nbformat_minor": 5
}

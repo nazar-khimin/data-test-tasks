{
 "cells": [
  {
   "metadata": {},
   "cell_type": "markdown",
   "source": "# Databricks Notebook: Data Profiling",
   "id": "aa5ef635357f665a"
  },
  {
   "metadata": {
    "ExecuteTime": {
     "end_time": "2025-03-31T12:30:25.928637Z",
     "start_time": "2025-03-31T12:30:25.925726Z"
    }
   },
   "cell_type": "code",
   "source": [
    "from pyspark.sql import SparkSession\n",
    "from pyspark.sql.functions import col, mean, stddev, count, percentile_approx"
   ],
   "id": "ad3e4b67f19213ba",
   "outputs": [],
   "execution_count": 6
  },
  {
   "metadata": {
    "ExecuteTime": {
     "end_time": "2025-03-31T12:30:25.946056Z",
     "start_time": "2025-03-31T12:30:25.939816Z"
    }
   },
   "cell_type": "code",
   "source": [
    "# Initialize Spark Session\n",
    "spark = SparkSession.builder.appName(\"Data Profiling\").getOrCreate()"
   ],
   "id": "9f2bdea787e31d48",
   "outputs": [],
   "execution_count": 7
  },
  {
   "metadata": {
    "ExecuteTime": {
     "end_time": "2025-03-31T12:30:26.024531Z",
     "start_time": "2025-03-31T12:30:25.951437Z"
    }
   },
   "cell_type": "code",
   "source": [
    "# Load Dataset\n",
    "df = spark.read.parquet(\"./../datasets/etl_input.parquet\")"
   ],
   "id": "603d36acc5b46d5e",
   "outputs": [],
   "execution_count": 8
  },
  {
   "metadata": {
    "ExecuteTime": {
     "end_time": "2025-03-31T12:30:26.230307Z",
     "start_time": "2025-03-31T12:30:26.034655Z"
    }
   },
   "cell_type": "code",
   "source": [
    "# Summary Statistics\n",
    "df.describe().show()"
   ],
   "id": "23e6ba0c69a97e2f",
   "outputs": [
    {
     "name": "stdout",
     "output_type": "stream",
     "text": [
      "+-------+---+-------+------------------+----------+-------+\n",
      "|summary| id|   name|               age|department| salary|\n",
      "+-------+---+-------+------------------+----------+-------+\n",
      "|  count|  3|      3|                 3|         3|      3|\n",
      "|   mean|2.0|   NULL|              28.0|      NULL|55000.0|\n",
      "| stddev|1.0|   NULL|2.6457513110645907|      NULL| 5000.0|\n",
      "|    min|  1|  Alice|                25|   Finance|  50000|\n",
      "|    max|  3|Charlie|                30|        IT|  60000|\n",
      "+-------+---+-------+------------------+----------+-------+\n",
      "\n"
     ]
    }
   ],
   "execution_count": 9
  },
  {
   "metadata": {
    "ExecuteTime": {
     "end_time": "2025-03-31T12:30:26.493761Z",
     "start_time": "2025-03-31T12:30:26.247379Z"
    }
   },
   "cell_type": "code",
   "source": [
    "# IQR Outlier Detection\n",
    "q1 = df.approxQuantile(\"salary\", [0.25], 0)[0]\n",
    "q3 = df.approxQuantile(\"salary\", [0.75], 0)[0]\n",
    "iqr = q3 - q1"
   ],
   "id": "d828f85ac044388f",
   "outputs": [],
   "execution_count": 10
  },
  {
   "metadata": {
    "ExecuteTime": {
     "end_time": "2025-03-31T12:30:26.627687Z",
     "start_time": "2025-03-31T12:30:26.499870Z"
    }
   },
   "cell_type": "code",
   "source": [
    "outliers = df.filter((col(\"salary\") < q1 - 1.5 * iqr) | (col(\"salary\") > q3 + 1.5 * iqr))\n",
    "if outliers.count() > 0:\n",
    "    print(\"Outliers detected!\")\n",
    "    outliers.show()"
   ],
   "id": "ae1f1143ab959a72",
   "outputs": [],
   "execution_count": 11
  },
  {
   "metadata": {
    "ExecuteTime": {
     "end_time": "2025-03-31T12:30:27.102593Z",
     "start_time": "2025-03-31T12:30:26.634055Z"
    }
   },
   "cell_type": "code",
   "source": [
    "# Stop Spark Session\n",
    "spark.stop()"
   ],
   "id": "4b6dfbb0a719e863",
   "outputs": [],
   "execution_count": 12
  }
 ],
 "metadata": {
  "kernelspec": {
   "display_name": "Python 3",
   "language": "python",
   "name": "python3"
  },
  "language_info": {
   "codemirror_mode": {
    "name": "ipython",
    "version": 2
   },
   "file_extension": ".py",
   "mimetype": "text/x-python",
   "name": "python",
   "nbconvert_exporter": "python",
   "pygments_lexer": "ipython2",
   "version": "2.7.6"
  }
 },
 "nbformat": 4,
 "nbformat_minor": 5
}

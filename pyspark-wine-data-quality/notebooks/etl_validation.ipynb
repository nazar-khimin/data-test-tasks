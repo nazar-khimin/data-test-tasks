{
 "cells": [
  {
   "cell_type": "code",
   "id": "initial_id",
   "metadata": {
    "collapsed": true,
    "ExecuteTime": {
     "end_time": "2025-04-03T22:43:21.917318Z",
     "start_time": "2025-04-03T22:43:16.302386Z"
    }
   },
   "source": [
    "from pyspark.sql import SparkSession\n",
    "from pyspark.sql.functions import col, when, count\n",
    "from features.data_quality_validation.schema_definition import WINE_QUALITY_TYPE_SCHEMA\n",
    "from features.data_quality_validation.schema_validation import SchemaValidation\n",
    "from features.etl.etl_validation import ETLValidation\n",
    "from features.utils.logger_config import logger\n",
    "from features.utils.path_utils import FileLoader\n",
    "\n",
    "# Initialize Spark session\n",
    "spark = SparkSession.builder.getOrCreate()\n",
    "\n",
    "wine_path = \"./datasets/wine_quality_corrupted.csv\"\n",
    "df = FileLoader.load_csv_with_delimiter(spark, wine_path, delimiter=\",\")"
   ],
   "outputs": [
    {
     "name": "stderr",
     "output_type": "stream",
     "text": [
      "25/04/04 01:43:17 WARN Utils: Your hostname, adonis-6.local resolves to a loopback address: 127.0.0.1; using 192.168.0.165 instead (on interface en0)\n",
      "25/04/04 01:43:17 WARN Utils: Set SPARK_LOCAL_IP if you need to bind to another address\n",
      "Setting default log level to \"WARN\".\n",
      "To adjust logging level use sc.setLogLevel(newLevel). For SparkR, use setLogLevel(newLevel).\n",
      "25/04/04 01:43:17 WARN NativeCodeLoader: Unable to load native-hadoop library for your platform... using builtin-java classes where applicable\n",
      "25/04/04 01:43:18 WARN Utils: Service 'SparkUI' could not bind on port 4040. Attempting port 4041.\n"
     ]
    }
   ],
   "execution_count": 4
  },
  {
   "metadata": {
    "ExecuteTime": {
     "end_time": "2025-04-03T22:43:21.949591Z",
     "start_time": "2025-04-03T22:43:21.922898Z"
    }
   },
   "cell_type": "code",
   "source": [
    "# ETL Transformation: Add 'alcohol_category' column\n",
    "df_transformed = df.withColumn(\n",
    "    \"alcohol_category\",\n",
    "    when(col(\"alcohol\") > 10, \"High\").otherwise(\"Low\")\n",
    ")"
   ],
   "id": "bb27c76f008fec02",
   "outputs": [],
   "execution_count": 5
  },
  {
   "metadata": {
    "ExecuteTime": {
     "end_time": "2025-04-03T22:43:22.955836Z",
     "start_time": "2025-04-03T22:43:21.969891Z"
    }
   },
   "cell_type": "code",
   "source": [
    "etl_validator = ETLValidation(df, df_transformed)\n",
    "\n",
    "# Perform ETL validation checks\n",
    "logger.info(f\"Row Count Match: {etl_validator.validate_row_count()}\")\n",
    "logger.info(f\"Column Validation: {etl_validator.validate_columns()}\")\n",
    "logger.info(f\"Alcohol Aggregation Check: {etl_validator.validate_aggregates('alcohol')}\")\n",
    "logger.info(f\"Completeness Check: {etl_validator.validate_completeness('quality')}\")"
   ],
   "id": "8043c2c8ad189961",
   "outputs": [
    {
     "name": "stdout",
     "output_type": "stream",
     "text": [
      "01:43:22 INFO: Row Count Match: (1158, 1158, True)\n",
      "01:43:22 INFO: Column Validation: {'missing': [], 'extra': ['alcohol_category']}\n",
      "01:43:22 INFO: Alcohol Aggregation Check: {'sum_difference': 0.0, 'avg_difference': 0.0}\n",
      "01:43:22 INFO: Completeness Check: {'missing_keys': []}\n"
     ]
    }
   ],
   "execution_count": 6
  },
  {
   "metadata": {
    "ExecuteTime": {
     "end_time": "2025-04-03T22:43:23.440172Z",
     "start_time": "2025-04-03T22:43:22.964946Z"
    }
   },
   "cell_type": "code",
   "source": [
    "schema_validator = SchemaValidation(df_transformed)\n",
    "\n",
    "logger.info(f\"Data Type Validation: \"\n",
    "            f\"{schema_validator.validate_data_types(WINE_QUALITY_TYPE_SCHEMA)}\")\n",
    "logger.info(f\"Alcohol > 0 Check: \"\n",
    "            f\"{schema_validator.validate_business_rules('alcohol', lambda x: x > 0)}\")\n",
    "logger.info(f\"High Alcohol Check (High): \"\n",
    "            f\"{schema_validator.validate_business_rules('alcohol_category', lambda x: x == 'High')}\")\n",
    "logger.info(f\"High Alcohol Check (Low): \"\n",
    "            f\"{schema_validator.validate_business_rules('alcohol_category', lambda x: x == 'Low')}\")\n"
   ],
   "id": "6618c5c616860899",
   "outputs": [
    {
     "name": "stdout",
     "output_type": "stream",
     "text": [
      "01:43:22 INFO: Data Type Validation: {'fixed acidity': {'expected': 'FloatType()', 'actual': 'DoubleType()'}, 'volatile acidity': {'expected': 'FloatType()', 'actual': 'DoubleType()'}, 'citric acid': {'expected': 'FloatType()', 'actual': 'DoubleType()'}, 'residual sugar': {'expected': 'FloatType()', 'actual': 'DoubleType()'}, 'chlorides': {'expected': 'FloatType()', 'actual': 'DoubleType()'}, 'free sulfur dioxide': {'expected': 'FloatType()', 'actual': 'DoubleType()'}, 'total sulfur dioxide': {'expected': 'FloatType()', 'actual': 'DoubleType()'}, 'density': {'expected': 'FloatType()', 'actual': 'DoubleType()'}, 'pH': {'expected': 'FloatType()', 'actual': 'DoubleType()'}, 'sulphates': {'expected': 'FloatType()', 'actual': 'DoubleType()'}, 'alcohol': {'expected': 'FloatType()', 'actual': 'DoubleType()'}, 'quality': {'expected': 'FloatType()', 'actual': 'DoubleType()'}, 'Id': {'expected': 'FloatType()', 'actual': 'DoubleType()'}}\n",
      "01:43:23 INFO: Alcohol > 0 Check: (0, 1106)\n",
      "01:43:23 INFO: High Alcohol Check (High): (574, 584)\n",
      "01:43:23 INFO: High Alcohol Check (Low): (584, 574)\n"
     ]
    }
   ],
   "execution_count": 7
  },
  {
   "metadata": {
    "ExecuteTime": {
     "end_time": "2025-04-03T22:43:23.813147Z",
     "start_time": "2025-04-03T22:43:23.446074Z"
    }
   },
   "cell_type": "code",
   "source": [
    "# Stop Spark session\n",
    "spark.stop()"
   ],
   "id": "9bc582da94e1d4dd",
   "outputs": [],
   "execution_count": 8
  }
 ],
 "metadata": {
  "kernelspec": {
   "display_name": "Python 3",
   "language": "python",
   "name": "python3"
  },
  "language_info": {
   "codemirror_mode": {
    "name": "ipython",
    "version": 2
   },
   "file_extension": ".py",
   "mimetype": "text/x-python",
   "name": "python",
   "nbconvert_exporter": "python",
   "pygments_lexer": "ipython2",
   "version": "2.7.6"
  }
 },
 "nbformat": 4,
 "nbformat_minor": 5
}
